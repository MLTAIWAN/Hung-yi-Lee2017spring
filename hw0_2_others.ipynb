{
 "cells": [
  {
   "cell_type": "code",
   "execution_count": 1,
   "metadata": {
    "collapsed": true
   },
   "outputs": [],
   "source": [
    "#http://m.blog.csdn.net/weixin_38631759/article/details/75006655\n",
    "import matplotlib.pyplot as plt \n",
    "from PIL import Image \n",
    "import numpy as np\n",
    "img1=Image.open(\"lena.jpeg\") \n",
    "img_array1=img1.load() \n",
    "img2=Image.open(\"lena_modified.jpeg\") \n",
    "img_array2=img2.load() \n",
    "im= Image.new(\"RGB\",(512,512),\"white\") \n",
    "img_array=im.load() \n",
    "\n",
    "for i in range(1,512): \n",
    "    for j in range(1,512): \n",
    "        if img_array1[i,j] != img_array2[ i,j]: \n",
    "            img_array[i,j]=img_array2[i,j] \n",
    "\n",
    "im.save('success.png')\n",
    "im.show()\n",
    "#plt.imshow(img_array, interpolation='nearest')\n",
    "#plt.show()"
   ]
  }
 ],
 "metadata": {
  "anaconda-cloud": {},
  "kernelspec": {
   "display_name": "Python [conda root]",
   "language": "python",
   "name": "conda-root-py"
  },
  "language_info": {
   "codemirror_mode": {
    "name": "ipython",
    "version": 3
   },
   "file_extension": ".py",
   "mimetype": "text/x-python",
   "name": "python",
   "nbconvert_exporter": "python",
   "pygments_lexer": "ipython3",
   "version": "3.5.2"
  }
 },
 "nbformat": 4,
 "nbformat_minor": 1
}
